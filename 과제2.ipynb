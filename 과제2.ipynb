{
 "cells": [
  {
   "cell_type": "code",
   "execution_count": 40,
   "id": "db935d46-4377-4a10-bb15-6c231f3c80f6",
   "metadata": {},
   "outputs": [],
   "source": [
    "subjects = [\"physics\", \"calculus\", \"poetry\", \"history\"]"
   ]
  },
  {
   "cell_type": "code",
   "execution_count": 41,
   "id": "94edf39e-bca5-4bb2-8bc4-ed98e5dca7b0",
   "metadata": {},
   "outputs": [],
   "source": [
    "grades = [98, 97, 85, 88]"
   ]
  },
  {
   "cell_type": "code",
   "execution_count": 42,
   "id": "c491073a-a53a-412d-847c-4351b3e20a2f",
   "metadata": {},
   "outputs": [],
   "source": [
    "gradebook = []\n",
    "for i in range(len(subjects)):\n",
    "    gradebook.append([subjects[i], grades[i]])"
   ]
  },
  {
   "cell_type": "code",
   "execution_count": 43,
   "id": "d9ef1387-e1c6-4d2a-aa89-a27acdc29480",
   "metadata": {},
   "outputs": [
    {
     "name": "stdout",
     "output_type": "stream",
     "text": [
      "[['physics', 98], ['calculus', 97], ['poetry', 85], ['history', 88]]\n"
     ]
    }
   ],
   "source": [
    "print(gradebook)"
   ]
  },
  {
   "cell_type": "code",
   "execution_count": 44,
   "id": "789ee9d1-24a0-4ca6-a806-c591cf30dfd6",
   "metadata": {},
   "outputs": [],
   "source": [
    "gradebook.append([\"computer science\", 100])"
   ]
  },
  {
   "cell_type": "code",
   "execution_count": 45,
   "id": "651b906a-159b-4f07-a422-a38e580d345f",
   "metadata": {},
   "outputs": [],
   "source": [
    "gradebook.append([\"visual arts\", 93])"
   ]
  },
  {
   "cell_type": "code",
   "execution_count": 46,
   "id": "1d4fca46-b5bf-4331-9adc-01716bc45315",
   "metadata": {},
   "outputs": [],
   "source": [
    "gradebook[5][1] += 5"
   ]
  },
  {
   "cell_type": "code",
   "execution_count": 47,
   "id": "e59fff3e-bf35-4b64-b0aa-8fcae0be7476",
   "metadata": {},
   "outputs": [],
   "source": [
    "for item in gradebook:\n",
    "    if item[0] == \"poetry\":\n",
    "        gradebook.remove(item)\n",
    "        gradebook.append([\"poetry\", \"Pass\"])"
   ]
  },
  {
   "cell_type": "code",
   "execution_count": 48,
   "id": "55762bd8-315b-4e92-a357-0a9e5e1df595",
   "metadata": {},
   "outputs": [],
   "source": [
    "last_semester_gradebook = [[\"politics\", 80], [\"latin\", 96], [\"dance\", 97], [\"architecture\", 65]]\n",
    "full_gradebook = last_semester_gradebook + gradebook\n"
   ]
  },
  {
   "cell_type": "code",
   "execution_count": 49,
   "id": "b796ad9e-59c9-48ba-a0bf-5211cb4de0ae",
   "metadata": {},
   "outputs": [
    {
     "name": "stdout",
     "output_type": "stream",
     "text": [
      "[['politics', 80], ['latin', 96], ['dance', 97], ['architecture', 65], ['physics', 98], ['calculus', 97], ['history', 88], ['computer science', 100], ['visual arts', 98], ['poetry', 'Pass']]\n"
     ]
    }
   ],
   "source": [
    "print(full_gradebook)\n"
   ]
  },
  {
   "cell_type": "code",
   "execution_count": 50,
   "id": "542fe56e-f692-49b5-a1bd-5c1963801b22",
   "metadata": {},
   "outputs": [
    {
     "data": {
      "text/plain": [
       "[['politics', 80],\n",
       " ['latin', 96],\n",
       " ['dance', 97],\n",
       " ['architecture', 65],\n",
       " ['physics', 98],\n",
       " ['calculus', 97],\n",
       " ['poetry', 'Pass'],\n",
       " ['history', 88],\n",
       " ['computer science', 100],\n",
       " ['visual arts', 98]]"
      ]
     },
     "execution_count": 50,
     "metadata": {},
     "output_type": "execute_result"
    }
   ],
   "source": [
    "[['politics', 80], ['latin', 96], ['dance', 97], ['architecture', 65], ['physics', 98], ['calculus', 97], ['poetry', 'Pass'], ['history', 88], ['computer science', 100], ['visual arts', 98]]\n"
   ]
  },
  {
   "cell_type": "code",
   "execution_count": null,
   "id": "5d6e4e8f-77cc-48a1-941f-70a969748add",
   "metadata": {},
   "outputs": [],
   "source": []
  },
  {
   "cell_type": "code",
   "execution_count": null,
   "id": "a028a22e-b978-4809-9be0-82b2312e888f",
   "metadata": {},
   "outputs": [],
   "source": []
  },
  {
   "cell_type": "code",
   "execution_count": null,
   "id": "bc21de9d-6410-4fe4-858e-c8492915249a",
   "metadata": {},
   "outputs": [],
   "source": []
  },
  {
   "cell_type": "code",
   "execution_count": null,
   "id": "07894f36-5838-431f-ba61-bb079e7bfbac",
   "metadata": {},
   "outputs": [],
   "source": []
  }
 ],
 "metadata": {
  "kernelspec": {
   "display_name": "Python 3 (ipykernel)",
   "language": "python",
   "name": "python3"
  },
  "language_info": {
   "codemirror_mode": {
    "name": "ipython",
    "version": 3
   },
   "file_extension": ".py",
   "mimetype": "text/x-python",
   "name": "python",
   "nbconvert_exporter": "python",
   "pygments_lexer": "ipython3",
   "version": "3.9.13"
  }
 },
 "nbformat": 4,
 "nbformat_minor": 5
}
