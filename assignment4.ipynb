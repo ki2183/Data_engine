{
 "cells": [
  {
   "cell_type": "code",
   "execution_count": 36,
   "id": "cf995a27-b9c6-4b15-bd58-2c95106221fe",
   "metadata": {},
   "outputs": [],
   "source": [
    "def get_my_chosun_name(family_name, month, day):\n",
    "    month_text = \"쌍쇠복돌팽육쌍개칠갑삼방\"\n",
    "    day_text = \"봉구욕포똥삼식석놈님년돌단득바질장걸래룡동순자박창언것포만단국\"\n",
    "    month_arr = list(month_text)\n",
    "    day_arr = list(day_text)\n",
    "    return family_name+str(month_arr[month-1])+str(day_arr[day-1])"
   ]
  },
  {
   "cell_type": "code",
   "execution_count": 38,
   "id": "f32f9dae-f1f1-4539-9ca3-916dcfb33f14",
   "metadata": {},
   "outputs": [
    {
     "name": "stdout",
     "output_type": "stream",
     "text": [
      "당신의 조선시대 이름은 김쌍포 입니다.\n"
     ]
    }
   ],
   "source": [
    "name = get_my_chosun_name('김', 1, 28)\n",
    "print(f'당신의 조선시대 이름은 {name} 입니다.')"
   ]
  }
 ],
 "metadata": {
  "kernelspec": {
   "display_name": "Python 3 (ipykernel)",
   "language": "python",
   "name": "python3"
  },
  "language_info": {
   "codemirror_mode": {
    "name": "ipython",
    "version": 3
   },
   "file_extension": ".py",
   "mimetype": "text/x-python",
   "name": "python",
   "nbconvert_exporter": "python",
   "pygments_lexer": "ipython3",
   "version": "3.9.13"
  }
 },
 "nbformat": 4,
 "nbformat_minor": 5
}
